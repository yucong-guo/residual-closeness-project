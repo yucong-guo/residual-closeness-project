{
 "cells": [
  {
   "cell_type": "code",
   "execution_count": 1,
   "metadata": {},
   "outputs": [],
   "source": [
    "import networkx as nx"
   ]
  },
  {
   "cell_type": "code",
   "execution_count": 16,
   "metadata": {
    "scrolled": true
   },
   "outputs": [
    {
     "data": {
      "text/plain": [
       "{0: Text(-0.14189513302686807, 0.6497968383307368, '0'),\n",
       " 1: Text(0.31529408450036644, 1.0, '1'),\n",
       " 2: Text(0.16595937316032539, 0.5251997744180089, '2'),\n",
       " 3: Text(0.48542855706483734, 0.4527959052802584, '3'),\n",
       " 4: Text(-0.06390563986851115, -0.19291968660094674, '4'),\n",
       " 5: Text(0.3693910304857254, -0.3279294103456499, '5'),\n",
       " 6: Text(0.08191136963795763, -0.7852703680740469, '6'),\n",
       " 7: Text(-0.20606964452511242, -0.6586053953889404, '7'),\n",
       " 8: Text(-0.514532839971686, -0.6012853772037672, '8'),\n",
       " 9: Text(-0.4915811574570342, -0.06178228041565362, '9')}"
      ]
     },
     "execution_count": 16,
     "metadata": {},
     "output_type": "execute_result"
    },
    {
     "data": {
      "image/png": "[encoded data removed]",
      "text/plain": [
       "<Figure size 432x288 with 1 Axes>"
      ]
     },
     "metadata": {},
     "output_type": "display_data"
    }
   ],
   "source": [
    "G=nx.watts_strogatz_graph(10,5,0.2)\n",
    "\n",
    "pos = nx.spring_layout(G)\n",
    "nx.draw_networkx_nodes(G,pos)\n",
    "nx.draw_networkx_edges(G,pos)\n",
    "nx.draw_networkx_labels(G,pos)"
   ]
  },
  {
   "cell_type": "code",
   "execution_count": 17,
   "metadata": {},
   "outputs": [
    {
     "name": "stdout",
     "output_type": "stream",
     "text": [
      "63.000000000000014\n"
     ]
    }
   ],
   "source": [
    "spl = dict(nx.all_pairs_shortest_path_length(G))\n",
    "C=0\n",
    "for node1 in G.nodes:\n",
    "    for node2 in G.nodes:\n",
    "        dist=spl[node1][node2]\n",
    "        if dist!= 0:\n",
    "            C=C+(1/dist)\n",
    "print(C)"
   ]
  },
  {
   "cell_type": "code",
   "execution_count": 18,
   "metadata": {},
   "outputs": [
    {
     "data": {
      "text/plain": [
       "EdgeView([(0, 1), (0, 9), (0, 2), (0, 3), (1, 2), (1, 3), (2, 3), (2, 4), (3, 5), (4, 5), (4, 6), (4, 8), (4, 9), (5, 6), (5, 7), (6, 7), (6, 8), (7, 8), (7, 9), (8, 9)])"
      ]
     },
     "execution_count": 18,
     "metadata": {},
     "output_type": "execute_result"
    }
   ],
   "source": [
    "G.edges()\n",
    "\n"
   ]
  },
  {
   "cell_type": "code",
   "execution_count": 19,
   "metadata": {},
   "outputs": [
    {
     "name": "stdout",
     "output_type": "stream",
     "text": [
      "(0, 1)\n",
      "20\n"
     ]
    }
   ],
   "source": [
    "A=[(0, 1), (0, 9), (0, 2), (0, 3), (1, 2), (1, 3), (2, 3), (2, 4), (3, 5), (4, 5), (4, 6), (4, 8), (4, 9), (5, 6), (5, 7), (6, 7), (6, 8), (7, 8), (7, 9), (8, 9)]\n",
    "print(A[0])\n",
    "print(len(A))\n"
   ]
  },
  {
   "cell_type": "code",
   "execution_count": 21,
   "metadata": {},
   "outputs": [
    {
     "name": "stdout",
     "output_type": "stream",
     "text": [
      "after remove the link 0 -- 1 ,the residual closeness is: 0.9788359788359792\n",
      "after remove the link 0 -- 9 ,the residual closeness is: 0.957671957671958\n",
      "after remove the link 0 -- 2 ,the residual closeness is: 0.9841269841269844\n",
      "after remove the link 0 -- 3 ,the residual closeness is: 0.9735449735449738\n",
      "after remove the link 1 -- 2 ,the residual closeness is: 0.9788359788359791\n",
      "after remove the link 1 -- 3 ,the residual closeness is: 0.9788359788359791\n",
      "after remove the link 2 -- 3 ,the residual closeness is: 0.9841269841269844\n",
      "after remove the link 2 -- 4 ,the residual closeness is: 0.9629629629629632\n",
      "after remove the link 3 -- 5 ,the residual closeness is: 0.9576719576719578\n",
      "after remove the link 4 -- 5 ,the residual closeness is: 0.9841269841269844\n",
      "after remove the link 4 -- 6 ,the residual closeness is: 0.9788359788359791\n",
      "after remove the link 4 -- 8 ,the residual closeness is: 0.9788359788359791\n",
      "after remove the link 4 -- 9 ,the residual closeness is: 0.9841269841269844\n",
      "after remove the link 5 -- 6 ,the residual closeness is: 0.9788359788359791\n",
      "after remove the link 5 -- 7 ,the residual closeness is: 0.9788359788359791\n",
      "after remove the link 6 -- 7 ,the residual closeness is: 0.9841269841269844\n",
      "after remove the link 6 -- 8 ,the residual closeness is: 0.9841269841269844\n",
      "after remove the link 7 -- 8 ,the residual closeness is: 0.9841269841269844\n",
      "after remove the link 7 -- 9 ,the residual closeness is: 0.9788359788359791\n",
      "after remove the link 8 -- 9 ,the residual closeness is: 0.9788359788359791\n",
      "0.9576719576719578\n",
      "8\n"
     ]
    }
   ],
   "source": [
    "list=[]\n",
    "for i in range(20):\n",
    "    H=G.copy()\n",
    "    H.remove_edge(A[i][0],A[i][1])\n",
    "    spl = dict(nx.all_pairs_shortest_path_length(H))\n",
    "    C=0\n",
    "    \n",
    "    for node1 in H.nodes:\n",
    "        for node2 in H.nodes:\n",
    "            dist=spl[node1][node2]\n",
    "            if dist!= 0:\n",
    "                C=C+(1/dist)\n",
    "    print(\"after remove the link\", A[i][0],\"--\",A[i][1], \",the residual closeness is:\", C/63)\n",
    "    list.append(C/63)\n",
    "print(min(list))\n",
    "minpos = list.index(min(list)) \n",
    "print(minpos)"
   ]
  },
  {
   "cell_type": "code",
   "execution_count": null,
   "metadata": {},
   "outputs": [],
   "source": []
  },
  {
   "cell_type": "code",
   "execution_count": null,
   "metadata": {},
   "outputs": [],
   "source": []
  },
  {
   "cell_type": "code",
   "execution_count": null,
   "metadata": {},
   "outputs": [],
   "source": [
    "\n",
    "\n"
   ]
  },
  {
   "cell_type": "code",
   "execution_count": null,
   "metadata": {},
   "outputs": [],
   "source": []
  },
  {
   "cell_type": "code",
   "execution_count": null,
   "metadata": {},
   "outputs": [],
   "source": []
  },
  {
   "cell_type": "code",
   "execution_count": null,
   "metadata": {},
   "outputs": [],
   "source": []
  }
 ],
 "metadata": {
  "kernelspec": {
   "display_name": "Python 3",
   "language": "python",
   "name": "python3"
  },
  "language_info": {
   "codemirror_mode": {
    "name": "ipython",
    "version": 3
   },
   "file_extension": ".py",
   "mimetype": "text/x-python",
   "name": "python",
   "nbconvert_exporter": "python",
   "pygments_lexer": "ipython3",
   "version": "3.7.6"
  }
 },
 "nbformat": 4,
 "nbformat_minor": 4
}
