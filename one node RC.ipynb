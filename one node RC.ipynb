{
 "cells": [
  {
   "cell_type": "code",
   "execution_count": 1,
   "metadata": {},
   "outputs": [],
   "source": [
    "import networkx as nx"
   ]
  },
  {
   "cell_type": "code",
   "execution_count": 96,
   "metadata": {},
   "outputs": [
    {
     "data": {
      "text/plain": [
       "{0: Text(0.3908093263820069, 0.28803792433011394, '0'),\n",
       " 1: Text(0.32138740856485637, -0.4523244335259363, '1'),\n",
       " 2: Text(-0.28265235532096494, -1.0, '2'),\n",
       " 3: Text(-0.38218304854148394, -0.5803309086850387, '3'),\n",
       " 4: Text(-0.7760835474603373, -0.3884031645698108, '4'),\n",
       " 5: Text(-0.6265910202419948, 0.1124717690308596, '5'),\n",
       " 6: Text(-0.35257693036392196, 0.3594296363046245, '6'),\n",
       " 7: Text(0.12921942717500845, 0.613357729925348, '7'),\n",
       " 8: Text(0.7866458792918914, 0.8199825826599975, '8'),\n",
       " 9: Text(0.7920248605149397, 0.2277788645298425, '9')}"
      ]
     },
     "execution_count": 96,
     "metadata": {},
     "output_type": "execute_result"
    },
    {
     "data": {
      "image/png": "[encoded data removed]",
      "text/plain": [
       "<Figure size 432x288 with 1 Axes>"
      ]
     },
     "metadata": {},
     "output_type": "display_data"
    }
   ],
   "source": [
    "G=nx.barabasi_albert_graph(10,3)\n",
    "pos = nx.spring_layout(G)\n",
    "nx.draw_networkx_nodes(G,pos)\n",
    "nx.draw_networkx_edges(G,pos)\n",
    "nx.draw_networkx_labels(G,pos)"
   ]
  },
  {
   "cell_type": "code",
   "execution_count": 97,
   "metadata": {},
   "outputs": [
    {
     "name": "stdout",
     "output_type": "stream",
     "text": [
      "63.333333333333336\n"
     ]
    }
   ],
   "source": [
    "spl = dict(nx.all_pairs_shortest_path_length(G))\n",
    "C=0\n",
    "for node1 in G.nodes:\n",
    "    for node2 in G.nodes:\n",
    "        dist=spl[node1][node2]\n",
    "        if dist!= 0:\n",
    "            C=C+(1/dist)\n",
    "print(C)"
   ]
  },
  {
   "cell_type": "code",
   "execution_count": 94,
   "metadata": {},
   "outputs": [
    {
     "name": "stdout",
     "output_type": "stream",
     "text": [
      "after remove node 0 ,the residual closeness is: 0.7979797979797979\n",
      "after remove node 1 ,the residual closeness is: 0.8181818181818182\n",
      "after remove node 2 ,the residual closeness is: 0.8181818181818182\n",
      "after remove node 3 ,the residual closeness is: 0.7424242424242425\n",
      "after remove node 4 ,the residual closeness is: 0.7878787878787878\n",
      "after remove node 5 ,the residual closeness is: 0.7373737373737377\n",
      "after remove node 6 ,the residual closeness is: 0.8181818181818182\n",
      "after remove node 7 ,the residual closeness is: 0.8181818181818182\n",
      "after remove node 8 ,the residual closeness is: 0.803030303030303\n",
      "after remove node 9 ,the residual closeness is: 0.8181818181818182\n"
     ]
    }
   ],
   "source": [
    "for i in range(10):\n",
    "    H = G.copy()\n",
    "    H.remove_node(i)\n",
    "    mapping = dict(zip(H, range(0,10)))\n",
    "    H = nx.relabel_nodes(H, mapping)\n",
    "\n",
    "    spl = dict(nx.all_pairs_shortest_path_length(H))\n",
    "    C=0\n",
    "    \n",
    "    for node1 in H.nodes:\n",
    "        for node2 in H.nodes:\n",
    "            dist=spl[node1][node2]\n",
    "            if dist!= 0:\n",
    "                C=C+(1/dist)\n",
    "    print(\"after remove node\", i, \",the residual closeness is:\", C/66)\n",
    "\n",
    "  "
   ]
  },
  {
   "cell_type": "code",
   "execution_count": 67,
   "metadata": {},
   "outputs": [
    {
     "ename": "SyntaxError",
     "evalue": "invalid syntax (<ipython-input-67-88a95fdaf741>, line 1)",
     "output_type": "error",
     "traceback": [
      "\u001b[0;36m  File \u001b[0;32m\"<ipython-input-67-88a95fdaf741>\"\u001b[0;36m, line \u001b[0;32m1\u001b[0m\n\u001b[0;31m    list{54,\u001b[0m\n\u001b[0m        ^\u001b[0m\n\u001b[0;31mSyntaxError\u001b[0m\u001b[0;31m:\u001b[0m invalid syntax\n"
     ]
    }
   ],
   "source": []
  },
  {
   "cell_type": "code",
   "execution_count": 68,
   "metadata": {},
   "outputs": [
    {
     "data": {
      "text/plain": [
       "(52.33333333333334,)"
      ]
     },
     "execution_count": 68,
     "metadata": {},
     "output_type": "execute_result"
    }
   ],
   "source": []
  },
  {
   "cell_type": "code",
   "execution_count": null,
   "metadata": {},
   "outputs": [],
   "source": []
  }
 ],
 "metadata": {
  "kernelspec": {
   "display_name": "Python 3",
   "language": "python",
   "name": "python3"
  },
  "language_info": {
   "codemirror_mode": {
    "name": "ipython",
    "version": 3
   },
   "file_extension": ".py",
   "mimetype": "text/x-python",
   "name": "python",
   "nbconvert_exporter": "python",
   "pygments_lexer": "ipython3",
   "version": "3.7.6"
  }
 },
 "nbformat": 4,
 "nbformat_minor": 4
}
